{
 "cells": [
  {
   "cell_type": "markdown",
   "id": "c3e88416",
   "metadata": {},
   "source": [
    "# smile.amazon.co.uk web scraping - mechancial keyboard"
   ]
  },
  {
   "cell_type": "code",
   "execution_count": 1,
   "id": "4cc3802c",
   "metadata": {},
   "outputs": [],
   "source": [
    "from bs4 import BeautifulSoup\n",
    "import requests\n",
    "import pandas as pd"
   ]
  },
  {
   "cell_type": "code",
   "execution_count": 2,
   "id": "126c40d7",
   "metadata": {},
   "outputs": [],
   "source": [
    "URL = 'https://smile.amazon.co.uk/s?k=mechanical+keyboard&crid=1O13689CCY5KQ&sprefix=mechanical+keyboard%2Caps%2C87&ref=nb_sb_noss_1'"
   ]
  },
  {
   "cell_type": "markdown",
   "id": "0e8d3870",
   "metadata": {},
   "source": [
    "- if you don't know your user-agent go to https://www.whatismybrowser.com/ to find it\n",
    "- or you find a bunch of user agents here https://developers.whatismybrowser.com/useragents/explore/software_type_specific/web-browser/2"
   ]
  },
  {
   "cell_type": "code",
   "execution_count": 3,
   "id": "28a46df8",
   "metadata": {},
   "outputs": [],
   "source": [
    "# headers for request\n",
    "HEADERS = {'User-Agent': 'Mozilla/5.0 (Windows NT 10.0; Win64; x64) AppleWebKit/537.36 (KHTML, like Gecko) Chrome/107.0.0.0 Safari/537.36',\n",
    "          'Accept-Language': 'en-US, en;q=0.5'}"
   ]
  },
  {
   "cell_type": "code",
   "execution_count": 4,
   "id": "9d306ae3",
   "metadata": {},
   "outputs": [
    {
     "data": {
      "text/plain": [
       "<Response [200]>"
      ]
     },
     "execution_count": 4,
     "metadata": {},
     "output_type": "execute_result"
    }
   ],
   "source": [
    "# HTTP request\n",
    "webpage = requests.get(URL, headers=HEADERS)\n",
    "webpage"
   ]
  },
  {
   "cell_type": "code",
   "execution_count": 5,
   "id": "538cf826",
   "metadata": {},
   "outputs": [
    {
     "data": {
      "text/plain": [
       "bytes"
      ]
     },
     "execution_count": 5,
     "metadata": {},
     "output_type": "execute_result"
    }
   ],
   "source": [
    "type(webpage.content)"
   ]
  },
  {
   "cell_type": "code",
   "execution_count": 6,
   "id": "e22c163a",
   "metadata": {},
   "outputs": [],
   "source": [
    "# soup object containig all data\n",
    "soup = BeautifulSoup(webpage.content, 'html.parser')"
   ]
  },
  {
   "cell_type": "code",
   "execution_count": 7,
   "id": "5c111ae0",
   "metadata": {},
   "outputs": [],
   "source": [
    "# fetch links as list of tag objects\n",
    "links = soup.find_all(\"a\", attrs={'class':'a-link-normal s-underline-text s-underline-link-text s-link-style a-text-normal'})"
   ]
  },
  {
   "cell_type": "code",
   "execution_count": 8,
   "id": "ba99997c",
   "metadata": {},
   "outputs": [],
   "source": [
    "link = links[0]. get('href')"
   ]
  },
  {
   "cell_type": "code",
   "execution_count": 9,
   "id": "5bd61cb3",
   "metadata": {},
   "outputs": [
    {
     "data": {
      "text/plain": [
       "'/sspa/click?ie=UTF8&spc=MTozOTA3MDc5MDY4OTk1NzI3OjE2Njk5ODkwOTY6c3BfYXRmOjIwMDgzMzAwNjI3ODk4OjowOjo&url=%2Fhavit-Mechanical-Keyboard-Backlit-Computer%2Fdp%2FB08P4S6BWR%2Fref%3Dsr_1_1_sspa%3Fcrid%3D1O13689CCY5KQ%26keywords%3Dmechanical%2Bkeyboard%26pldnSite%3D1%26qid%3D1669989096%26sprefix%3Dmechanical%2Bkeyboard%252Caps%252C87%26sr%3D8-1-spons%26sp_csd%3Dd2lkZ2V0TmFtZT1zcF9hdGY%26psc%3D1'"
      ]
     },
     "execution_count": 9,
     "metadata": {},
     "output_type": "execute_result"
    }
   ],
   "source": [
    "link"
   ]
  },
  {
   "cell_type": "code",
   "execution_count": 10,
   "id": "a27155df",
   "metadata": {},
   "outputs": [],
   "source": [
    "# storing the link in product_list\n",
    "product_list = 'https://smile.amazon.co.uk' + link"
   ]
  },
  {
   "cell_type": "code",
   "execution_count": 11,
   "id": "204f08c5",
   "metadata": {},
   "outputs": [
    {
     "data": {
      "text/plain": [
       "'https://smile.amazon.co.uk/sspa/click?ie=UTF8&spc=MTozOTA3MDc5MDY4OTk1NzI3OjE2Njk5ODkwOTY6c3BfYXRmOjIwMDgzMzAwNjI3ODk4OjowOjo&url=%2Fhavit-Mechanical-Keyboard-Backlit-Computer%2Fdp%2FB08P4S6BWR%2Fref%3Dsr_1_1_sspa%3Fcrid%3D1O13689CCY5KQ%26keywords%3Dmechanical%2Bkeyboard%26pldnSite%3D1%26qid%3D1669989096%26sprefix%3Dmechanical%2Bkeyboard%252Caps%252C87%26sr%3D8-1-spons%26sp_csd%3Dd2lkZ2V0TmFtZT1zcF9hdGY%26psc%3D1'"
      ]
     },
     "execution_count": 11,
     "metadata": {},
     "output_type": "execute_result"
    }
   ],
   "source": [
    "product_list"
   ]
  },
  {
   "cell_type": "code",
   "execution_count": 12,
   "id": "8ca93ba7",
   "metadata": {},
   "outputs": [],
   "source": [
    "new_webpage = requests.get(product_list, headers=HEADERS)"
   ]
  },
  {
   "cell_type": "code",
   "execution_count": 13,
   "id": "fee2cf3c",
   "metadata": {},
   "outputs": [
    {
     "data": {
      "text/plain": [
       "<Response [200]>"
      ]
     },
     "execution_count": 13,
     "metadata": {},
     "output_type": "execute_result"
    }
   ],
   "source": [
    "new_webpage"
   ]
  },
  {
   "cell_type": "code",
   "execution_count": 14,
   "id": "f321a83c",
   "metadata": {},
   "outputs": [],
   "source": [
    "# soup object containing product data\n",
    "new_soup = BeautifulSoup(new_webpage.content, 'html.parser')"
   ]
  },
  {
   "cell_type": "code",
   "execution_count": 15,
   "id": "b8a7274f",
   "metadata": {},
   "outputs": [
    {
     "data": {
      "text/plain": [
       "'havit Mechanical Gaming Keyboard UK Layout Wired Red Switch 90 Keys TKL PBT Keycaps with Number Pad for PC/Laptop/Computer, Black'"
      ]
     },
     "execution_count": 15,
     "metadata": {},
     "output_type": "execute_result"
    }
   ],
   "source": [
    "# finding the title\n",
    "new_soup.find('span', attrs={'id':'productTitle'}).text.strip()"
   ]
  },
  {
   "cell_type": "code",
   "execution_count": 16,
   "id": "f8379688",
   "metadata": {},
   "outputs": [
    {
     "data": {
      "text/plain": [
       "'£40.99'"
      ]
     },
     "execution_count": 16,
     "metadata": {},
     "output_type": "execute_result"
    }
   ],
   "source": [
    "# finding the price\n",
    "new_soup.find('span', attrs={'class':'a-offscreen'}).text.strip()"
   ]
  },
  {
   "cell_type": "code",
   "execution_count": 17,
   "id": "2c494d8d",
   "metadata": {},
   "outputs": [
    {
     "data": {
      "text/plain": [
       "'£139.95'"
      ]
     },
     "execution_count": 17,
     "metadata": {},
     "output_type": "execute_result"
    }
   ],
   "source": [
    "# finding the price\n",
    "#new_soup.find('span', attrs={'class':'a-price a-text-price a-size-medium apexPriceToPay'}).find('span', attrs={'class':'a-offscreen'}).text.strip()"
   ]
  },
  {
   "cell_type": "code",
   "execution_count": 17,
   "id": "ae9e25da",
   "metadata": {},
   "outputs": [
    {
     "data": {
      "text/plain": [
       "'4.3 out of 5'"
      ]
     },
     "execution_count": 17,
     "metadata": {},
     "output_type": "execute_result"
    }
   ],
   "source": [
    "# extracting the rating\n",
    "new_soup.find('span', attrs={'class':'a-size-medium a-color-base'}).text.strip()"
   ]
  }
 ],
 "metadata": {
  "kernelspec": {
   "display_name": "Python 3.10.6 64-bit",
   "language": "python",
   "name": "python3"
  },
  "language_info": {
   "codemirror_mode": {
    "name": "ipython",
    "version": 3
   },
   "file_extension": ".py",
   "mimetype": "text/x-python",
   "name": "python",
   "nbconvert_exporter": "python",
   "pygments_lexer": "ipython3",
   "version": "3.10.6"
  },
  "vscode": {
   "interpreter": {
    "hash": "916dbcbb3f70747c44a77c7bcd40155683ae19c65e1c03b4aa3499c5328201f1"
   }
  }
 },
 "nbformat": 4,
 "nbformat_minor": 5
}
